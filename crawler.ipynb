{
 "cells": [
  {
   "cell_type": "code",
   "execution_count": 1,
   "id": "07acda88",
   "metadata": {
    "scrolled": true
   },
   "outputs": [
    {
     "ename": "WebDriverException",
     "evalue": "Message: Can not connect to the Service /Users/xiaoyuanze/.wdm/drivers/chromedriver/mac64/128.0.6613.137/chromedriver-mac-arm64/chromedriver\n",
     "output_type": "error",
     "traceback": [
      "\u001b[0;31m---------------------------------------------------------------------------\u001b[0m",
      "\u001b[0;31mWebDriverException\u001b[0m                        Traceback (most recent call last)",
      "Cell \u001b[0;32mIn[1], line 26\u001b[0m\n\u001b[1;32m     22\u001b[0m \u001b[38;5;66;03m# chrome_options.add_argument(\"--headless\")  # 如果你不想看到浏览器打开，请取消注释这行代码\u001b[39;00m\n\u001b[1;32m     23\u001b[0m \n\u001b[1;32m     24\u001b[0m \u001b[38;5;66;03m# 初始化 Selenium WebDriver\u001b[39;00m\n\u001b[1;32m     25\u001b[0m service \u001b[38;5;241m=\u001b[39m Service(ChromeDriverManager()\u001b[38;5;241m.\u001b[39minstall())\n\u001b[0;32m---> 26\u001b[0m driver \u001b[38;5;241m=\u001b[39m \u001b[43mwebdriver\u001b[49m\u001b[38;5;241;43m.\u001b[39;49m\u001b[43mChrome\u001b[49m\u001b[43m(\u001b[49m\u001b[43mservice\u001b[49m\u001b[38;5;241;43m=\u001b[39;49m\u001b[43mservice\u001b[49m\u001b[43m,\u001b[49m\u001b[43m \u001b[49m\u001b[43moptions\u001b[49m\u001b[38;5;241;43m=\u001b[39;49m\u001b[43mchrome_options\u001b[49m\u001b[43m)\u001b[49m\n\u001b[1;32m     27\u001b[0m driver\u001b[38;5;241m.\u001b[39mget(\u001b[38;5;124m'\u001b[39m\u001b[38;5;124mhttps://www.dsedt.gov.mo/zh_MO/web/public/pg_es_ae_qe_trademark#briefResultPanel\u001b[39m\u001b[38;5;124m'\u001b[39m)\n\u001b[1;32m     29\u001b[0m \u001b[38;5;66;03m# 等待 10 秒，让用户手动关闭弹窗\u001b[39;00m\n",
      "File \u001b[0;32m~/anaconda3/lib/python3.10/site-packages/selenium/webdriver/chrome/webdriver.py:45\u001b[0m, in \u001b[0;36mWebDriver.__init__\u001b[0;34m(self, options, service, keep_alive)\u001b[0m\n\u001b[1;32m     42\u001b[0m service \u001b[38;5;241m=\u001b[39m service \u001b[38;5;28;01mif\u001b[39;00m service \u001b[38;5;28;01melse\u001b[39;00m Service()\n\u001b[1;32m     43\u001b[0m options \u001b[38;5;241m=\u001b[39m options \u001b[38;5;28;01mif\u001b[39;00m options \u001b[38;5;28;01melse\u001b[39;00m Options()\n\u001b[0;32m---> 45\u001b[0m \u001b[38;5;28;43msuper\u001b[39;49m\u001b[43m(\u001b[49m\u001b[43m)\u001b[49m\u001b[38;5;241;43m.\u001b[39;49m\u001b[38;5;21;43m__init__\u001b[39;49m\u001b[43m(\u001b[49m\n\u001b[1;32m     46\u001b[0m \u001b[43m    \u001b[49m\u001b[43mbrowser_name\u001b[49m\u001b[38;5;241;43m=\u001b[39;49m\u001b[43mDesiredCapabilities\u001b[49m\u001b[38;5;241;43m.\u001b[39;49m\u001b[43mCHROME\u001b[49m\u001b[43m[\u001b[49m\u001b[38;5;124;43m\"\u001b[39;49m\u001b[38;5;124;43mbrowserName\u001b[39;49m\u001b[38;5;124;43m\"\u001b[39;49m\u001b[43m]\u001b[49m\u001b[43m,\u001b[49m\n\u001b[1;32m     47\u001b[0m \u001b[43m    \u001b[49m\u001b[43mvendor_prefix\u001b[49m\u001b[38;5;241;43m=\u001b[39;49m\u001b[38;5;124;43m\"\u001b[39;49m\u001b[38;5;124;43mgoog\u001b[39;49m\u001b[38;5;124;43m\"\u001b[39;49m\u001b[43m,\u001b[49m\n\u001b[1;32m     48\u001b[0m \u001b[43m    \u001b[49m\u001b[43moptions\u001b[49m\u001b[38;5;241;43m=\u001b[39;49m\u001b[43moptions\u001b[49m\u001b[43m,\u001b[49m\n\u001b[1;32m     49\u001b[0m \u001b[43m    \u001b[49m\u001b[43mservice\u001b[49m\u001b[38;5;241;43m=\u001b[39;49m\u001b[43mservice\u001b[49m\u001b[43m,\u001b[49m\n\u001b[1;32m     50\u001b[0m \u001b[43m    \u001b[49m\u001b[43mkeep_alive\u001b[49m\u001b[38;5;241;43m=\u001b[39;49m\u001b[43mkeep_alive\u001b[49m\u001b[43m,\u001b[49m\n\u001b[1;32m     51\u001b[0m \u001b[43m\u001b[49m\u001b[43m)\u001b[49m\n",
      "File \u001b[0;32m~/anaconda3/lib/python3.10/site-packages/selenium/webdriver/chromium/webdriver.py:55\u001b[0m, in \u001b[0;36mChromiumDriver.__init__\u001b[0;34m(self, browser_name, vendor_prefix, options, service, keep_alive)\u001b[0m\n\u001b[1;32m     52\u001b[0m     options\u001b[38;5;241m.\u001b[39mbrowser_version \u001b[38;5;241m=\u001b[39m \u001b[38;5;28;01mNone\u001b[39;00m\n\u001b[1;32m     54\u001b[0m \u001b[38;5;28mself\u001b[39m\u001b[38;5;241m.\u001b[39mservice\u001b[38;5;241m.\u001b[39mpath \u001b[38;5;241m=\u001b[39m finder\u001b[38;5;241m.\u001b[39mget_driver_path()\n\u001b[0;32m---> 55\u001b[0m \u001b[38;5;28;43mself\u001b[39;49m\u001b[38;5;241;43m.\u001b[39;49m\u001b[43mservice\u001b[49m\u001b[38;5;241;43m.\u001b[39;49m\u001b[43mstart\u001b[49m\u001b[43m(\u001b[49m\u001b[43m)\u001b[49m\n\u001b[1;32m     57\u001b[0m executor \u001b[38;5;241m=\u001b[39m ChromiumRemoteConnection(\n\u001b[1;32m     58\u001b[0m     remote_server_addr\u001b[38;5;241m=\u001b[39m\u001b[38;5;28mself\u001b[39m\u001b[38;5;241m.\u001b[39mservice\u001b[38;5;241m.\u001b[39mservice_url,\n\u001b[1;32m     59\u001b[0m     browser_name\u001b[38;5;241m=\u001b[39mbrowser_name,\n\u001b[0;32m   (...)\u001b[0m\n\u001b[1;32m     62\u001b[0m     ignore_proxy\u001b[38;5;241m=\u001b[39moptions\u001b[38;5;241m.\u001b[39m_ignore_local_proxy,\n\u001b[1;32m     63\u001b[0m )\n\u001b[1;32m     65\u001b[0m \u001b[38;5;28;01mtry\u001b[39;00m:\n",
      "File \u001b[0;32m~/anaconda3/lib/python3.10/site-packages/selenium/webdriver/common/service.py:109\u001b[0m, in \u001b[0;36mService.start\u001b[0;34m(self)\u001b[0m\n\u001b[1;32m    107\u001b[0m count \u001b[38;5;241m+\u001b[39m\u001b[38;5;241m=\u001b[39m \u001b[38;5;241m1\u001b[39m\n\u001b[1;32m    108\u001b[0m \u001b[38;5;28;01mif\u001b[39;00m count \u001b[38;5;241m==\u001b[39m \u001b[38;5;241m70\u001b[39m:\n\u001b[0;32m--> 109\u001b[0m     \u001b[38;5;28;01mraise\u001b[39;00m WebDriverException(\u001b[38;5;124mf\u001b[39m\u001b[38;5;124m\"\u001b[39m\u001b[38;5;124mCan not connect to the Service \u001b[39m\u001b[38;5;132;01m{\u001b[39;00m\u001b[38;5;28mself\u001b[39m\u001b[38;5;241m.\u001b[39m_path\u001b[38;5;132;01m}\u001b[39;00m\u001b[38;5;124m\"\u001b[39m)\n",
      "\u001b[0;31mWebDriverException\u001b[0m: Message: Can not connect to the Service /Users/xiaoyuanze/.wdm/drivers/chromedriver/mac64/128.0.6613.137/chromedriver-mac-arm64/chromedriver\n"
     ]
    }
   ],
   "source": [
    "import os\n",
    "import csv\n",
    "from selenium import webdriver\n",
    "from selenium.webdriver.common.by import By\n",
    "from selenium.webdriver.chrome.service import Service\n",
    "from selenium.webdriver.chrome.options import Options\n",
    "from selenium.webdriver.support.ui import WebDriverWait\n",
    "from selenium.webdriver.support import expected_conditions as EC\n",
    "from webdriver_manager.chrome import ChromeDriverManager\n",
    "import ddddocr\n",
    "import time\n",
    "\n",
    "# 设置保存商标图形的目录\n",
    "save_dir = r'D:\\UM\\CISC4000\\logos'\n",
    "os.makedirs(save_dir, exist_ok=True)\n",
    "\n",
    "# CSV 文件路径\n",
    "csv_file_path = os.path.join(save_dir, 'logos_info.csv')\n",
    "\n",
    "# 设置 Chrome 选项\n",
    "chrome_options = Options()\n",
    "# chrome_options.add_argument(\"--headless\")  # 如果你不想看到浏览器打开，请取消注释这行代码\n",
    "\n",
    "# 初始化 Selenium WebDriver\n",
    "service = Service(ChromeDriverManager().install())\n",
    "driver = webdriver.Chrome(service=service, options=chrome_options)\n",
    "driver.get('https://www.dsedt.gov.mo/zh_MO/web/public/pg_es_ae_qe_trademark#briefResultPanel')\n",
    "\n",
    "# 等待 10 秒，让用户手动关闭弹窗\n",
    "print(\"等待 10 秒，请关闭弹窗...\")\n",
    "time.sleep(10)\n",
    "\n",
    "# 添加1到29的商标图形要素编码\n",
    "for i in range(1, 30):\n",
    "    # 找到输入框并输入编码\n",
    "    element_input = driver.find_element(By.ID, \"A9158:inputViennaCode\")\n",
    "    element_input.clear()\n",
    "    element_input.send_keys(str(i))\n",
    "\n",
    "    # 点击加入按钮\n",
    "    add_button = driver.find_element(By.ID, \"A9158:j_idt68\")\n",
    "    add_button.click()\n",
    "\n",
    "    # 等待加入成功\n",
    "    time.sleep(1)\n",
    "\n",
    "# 获取验证码图片\n",
    "captcha_img_element = WebDriverWait(driver, 10).until(\n",
    "    EC.presence_of_element_located((By.XPATH, \"//div[@id='A9158:dsecaptcha']//img\"))\n",
    ")\n",
    "captcha_img = captcha_img_element.screenshot_as_png\n",
    "\n",
    "# 使用 ddddocr 识别验证码\n",
    "ocr = ddddocr.DdddOcr()\n",
    "captcha_code = ocr.classification(captcha_img)\n",
    "\n",
    "# 将验证码填入输入框\n",
    "captcha_input = driver.find_element(By.ID, \"A9158:dsecaptchaText\")\n",
    "captcha_input.send_keys(captcha_code)\n",
    "\n",
    "# 提交表单或点击查询按钮\n",
    "search_button = driver.find_element(By.ID, \"A9158:j_idt88\")\n",
    "search_button.click()\n",
    "\n",
    "# 等待结果加载\n",
    "WebDriverWait(driver, 60).until(\n",
    "    EC.presence_of_element_located((By.XPATH, \"//div[@id='A9158:briefResultTable_paginator_top']\"))\n",
    ")\n",
    "\n",
    "# 创建 CSV 文件并写入表头\n",
    "with open(csv_file_path, mode='w', newline='', encoding='utf-8') as csv_file:\n",
    "    writer = csv.writer(csv_file)\n",
    "    writer.writerow(['商标编号', '申请人', '商标文字', '状态', '图像路径'])  # CSV 表头\n",
    "\n",
    "    # 初始化下载计数器\n",
    "    logo_index = 1\n",
    "\n",
    "    # 遍历所有页面并下载商标图案及信息\n",
    "    while True:\n",
    "        # 获取当前页面的所有商标信息\n",
    "        rows = driver.find_elements(By.XPATH, \"//*[@id='A9158:briefResultTable_data']/tr\")\n",
    "        \n",
    "        for row in rows:\n",
    "            # 获取商标信息\n",
    "            try:\n",
    "                trademark_number = row.find_element(By.XPATH, \"./td[1]\").text  # 商标编号\n",
    "                applicant = row.find_element(By.XPATH, \"./td[2]\").text  # 申请人\n",
    "                trademark_text = row.find_element(By.XPATH, \"./td[3]\").text  # 商标文字\n",
    "                status = row.find_element(By.XPATH, \"./td[4]\").text  # 状态\n",
    "                classify = row.find_element(By.XPATH, \"./td[5]\").text  # 分类编号\n",
    "                logo_img_index = f'logo_{logo_index}'\n",
    "                logo_path = os.path.join(save_dir, f'logo_{logo_index}.png')# 保存商标图像\n",
    "                logo_img = row.find_element(By.XPATH, \".//img[contains(@id, ':briefResultTable:')]\")\n",
    "                logo_img.screenshot(logo_path)\n",
    "\n",
    "                # 写入 CSV 文件\n",
    "                writer.writerow([trademark_number, applicant, trademark_text, status, classify,logo_img_index])\n",
    "                logo_index += 1\n",
    "            except Exception as e:\n",
    "                print(f\"无法提取信息或保存图片 {logo_index} - 错误: {e}\")\n",
    "\n",
    "        # 尝试找到并点击下一页按钮\n",
    "        try:\n",
    "            next_button = WebDriverWait(driver, 10).until(\n",
    "                EC.element_to_be_clickable((By.XPATH, \"//span[@class='ui-paginator-next ui-state-default ui-corner-all']\"))\n",
    "            )\n",
    "            if 'ui-state-disabled' in next_button.get_attribute('class'):\n",
    "                print(\"下一页按钮被禁用，已到达最后一页。\")\n",
    "                break\n",
    "            next_button.click()\n",
    "            time.sleep(3)  # 等待页面加载\n",
    "        except Exception as e:\n",
    "            print(\"无法找到下一页按钮或已到达最后一页:\", str(e))\n",
    "            break\n",
    "\n",
    "# 关闭浏览器\n",
    "driver.quit()\n",
    "\n",
    "print(\"所有商标图形已保存至:\", save_dir)\n",
    "print(\"商标信息已保存至:\", csv_file_path)"
   ]
  },
  {
   "cell_type": "code",
   "execution_count": 2,
   "id": "3eacdf96",
   "metadata": {},
   "outputs": [
    {
     "name": "stdout",
     "output_type": "stream",
     "text": [
      "Collecting selenium==3.141.0\n",
      "  Using cached selenium-3.141.0-py2.py3-none-any.whl.metadata (6.6 kB)\n",
      "Requirement already satisfied: urllib3 in /Users/xiaoyuanze/anaconda3/lib/python3.10/site-packages (from selenium==3.141.0) (1.26.14)\n",
      "Using cached selenium-3.141.0-py2.py3-none-any.whl (904 kB)\n",
      "Installing collected packages: selenium\n",
      "  Attempting uninstall: selenium\n",
      "    Found existing installation: selenium 4.24.0\n",
      "    Uninstalling selenium-4.24.0:\n",
      "      Successfully uninstalled selenium-4.24.0\n",
      "Successfully installed selenium-3.141.0\n",
      "Note: you may need to restart the kernel to use updated packages.\n"
     ]
    }
   ],
   "source": [
    "pip install selenium==3.141.0"
   ]
  },
  {
   "cell_type": "code",
   "execution_count": 3,
   "id": "8693c3d0",
   "metadata": {},
   "outputs": [
    {
     "name": "stdout",
     "output_type": "stream",
     "text": [
      "Requirement already satisfied: ddddocr in /Users/xiaoyuanze/anaconda3/lib/python3.10/site-packages (1.5.5)\n",
      "Requirement already satisfied: numpy in /Users/xiaoyuanze/anaconda3/lib/python3.10/site-packages (from ddddocr) (1.26.4)\n",
      "Requirement already satisfied: onnxruntime in /Users/xiaoyuanze/anaconda3/lib/python3.10/site-packages (from ddddocr) (1.19.2)\n",
      "Requirement already satisfied: Pillow in /Users/xiaoyuanze/anaconda3/lib/python3.10/site-packages (from ddddocr) (9.4.0)\n",
      "Requirement already satisfied: opencv-python-headless in /Users/xiaoyuanze/anaconda3/lib/python3.10/site-packages (from ddddocr) (4.10.0.84)\n",
      "Requirement already satisfied: coloredlogs in /Users/xiaoyuanze/anaconda3/lib/python3.10/site-packages (from onnxruntime->ddddocr) (15.0.1)\n",
      "Requirement already satisfied: flatbuffers in /Users/xiaoyuanze/anaconda3/lib/python3.10/site-packages (from onnxruntime->ddddocr) (24.3.25)\n",
      "Requirement already satisfied: packaging in /Users/xiaoyuanze/anaconda3/lib/python3.10/site-packages (from onnxruntime->ddddocr) (22.0)\n",
      "Requirement already satisfied: protobuf in /Users/xiaoyuanze/anaconda3/lib/python3.10/site-packages (from onnxruntime->ddddocr) (4.25.4)\n",
      "Requirement already satisfied: sympy in /Users/xiaoyuanze/anaconda3/lib/python3.10/site-packages (from onnxruntime->ddddocr) (1.11.1)\n",
      "Requirement already satisfied: humanfriendly>=9.1 in /Users/xiaoyuanze/anaconda3/lib/python3.10/site-packages (from coloredlogs->onnxruntime->ddddocr) (10.0)\n",
      "Requirement already satisfied: mpmath>=0.19 in /Users/xiaoyuanze/anaconda3/lib/python3.10/site-packages/mpmath-1.2.1-py3.10.egg (from sympy->onnxruntime->ddddocr) (1.2.1)\n",
      "Note: you may need to restart the kernel to use updated packages.\n"
     ]
    }
   ],
   "source": [
    "pip install ddddocr"
   ]
  },
  {
   "cell_type": "code",
   "execution_count": 4,
   "id": "206fc9be",
   "metadata": {},
   "outputs": [
    {
     "name": "stdout",
     "output_type": "stream",
     "text": [
      "Requirement already satisfied: webdriver-manager in /Users/xiaoyuanze/anaconda3/lib/python3.10/site-packages (4.0.2)\n",
      "Requirement already satisfied: requests in /Users/xiaoyuanze/anaconda3/lib/python3.10/site-packages (from webdriver-manager) (2.32.3)\n",
      "Requirement already satisfied: python-dotenv in /Users/xiaoyuanze/anaconda3/lib/python3.10/site-packages (from webdriver-manager) (1.0.1)\n",
      "Requirement already satisfied: packaging in /Users/xiaoyuanze/anaconda3/lib/python3.10/site-packages (from webdriver-manager) (22.0)\n",
      "Requirement already satisfied: charset-normalizer<4,>=2 in /Users/xiaoyuanze/anaconda3/lib/python3.10/site-packages (from requests->webdriver-manager) (2.0.4)\n",
      "Requirement already satisfied: idna<4,>=2.5 in /Users/xiaoyuanze/anaconda3/lib/python3.10/site-packages (from requests->webdriver-manager) (3.4)\n",
      "Requirement already satisfied: urllib3<3,>=1.21.1 in /Users/xiaoyuanze/anaconda3/lib/python3.10/site-packages (from requests->webdriver-manager) (1.26.14)\n",
      "Requirement already satisfied: certifi>=2017.4.17 in /Users/xiaoyuanze/anaconda3/lib/python3.10/site-packages (from requests->webdriver-manager) (2024.7.4)\n",
      "Note: you may need to restart the kernel to use updated packages.\n"
     ]
    }
   ],
   "source": [
    "pip install webdriver-manager"
   ]
  },
  {
   "cell_type": "code",
   "execution_count": 5,
   "id": "e9c73267",
   "metadata": {},
   "outputs": [
    {
     "name": "stdout",
     "output_type": "stream",
     "text": [
      "Requirement already satisfied: selenium in /Users/xiaoyuanze/anaconda3/lib/python3.10/site-packages (3.141.0)\n",
      "Collecting selenium\n",
      "  Using cached selenium-4.24.0-py3-none-any.whl.metadata (7.1 kB)\n",
      "Requirement already satisfied: urllib3<3,>=1.26 in /Users/xiaoyuanze/anaconda3/lib/python3.10/site-packages (from urllib3[socks]<3,>=1.26->selenium) (1.26.14)\n",
      "Requirement already satisfied: trio~=0.17 in /Users/xiaoyuanze/anaconda3/lib/python3.10/site-packages (from selenium) (0.23.1)\n",
      "Requirement already satisfied: trio-websocket~=0.9 in /Users/xiaoyuanze/anaconda3/lib/python3.10/site-packages (from selenium) (0.11.1)\n",
      "Requirement already satisfied: certifi>=2021.10.8 in /Users/xiaoyuanze/anaconda3/lib/python3.10/site-packages (from selenium) (2024.7.4)\n",
      "Requirement already satisfied: typing_extensions~=4.9 in /Users/xiaoyuanze/anaconda3/lib/python3.10/site-packages (from selenium) (4.11.0)\n",
      "Requirement already satisfied: websocket-client~=1.8 in /Users/xiaoyuanze/anaconda3/lib/python3.10/site-packages (from selenium) (1.8.0)\n",
      "Requirement already satisfied: attrs>=20.1.0 in /Users/xiaoyuanze/anaconda3/lib/python3.10/site-packages (from trio~=0.17->selenium) (23.1.0)\n",
      "Requirement already satisfied: sortedcontainers in /Users/xiaoyuanze/anaconda3/lib/python3.10/site-packages (from trio~=0.17->selenium) (2.4.0)\n",
      "Requirement already satisfied: idna in /Users/xiaoyuanze/anaconda3/lib/python3.10/site-packages (from trio~=0.17->selenium) (3.4)\n",
      "Requirement already satisfied: outcome in /Users/xiaoyuanze/anaconda3/lib/python3.10/site-packages (from trio~=0.17->selenium) (1.3.0.post0)\n",
      "Requirement already satisfied: sniffio>=1.3.0 in /Users/xiaoyuanze/anaconda3/lib/python3.10/site-packages (from trio~=0.17->selenium) (1.3.0)\n",
      "Requirement already satisfied: exceptiongroup>=1.0.0rc9 in /Users/xiaoyuanze/anaconda3/lib/python3.10/site-packages (from trio~=0.17->selenium) (1.1.3)\n",
      "Requirement already satisfied: wsproto>=0.14 in /Users/xiaoyuanze/anaconda3/lib/python3.10/site-packages (from trio-websocket~=0.9->selenium) (1.2.0)\n",
      "Requirement already satisfied: PySocks!=1.5.7,<2.0,>=1.5.6 in /Users/xiaoyuanze/anaconda3/lib/python3.10/site-packages (from urllib3[socks]<3,>=1.26->selenium) (1.7.1)\n",
      "Requirement already satisfied: h11<1,>=0.9.0 in /Users/xiaoyuanze/anaconda3/lib/python3.10/site-packages (from wsproto>=0.14->trio-websocket~=0.9->selenium) (0.14.0)\n",
      "Using cached selenium-4.24.0-py3-none-any.whl (9.6 MB)\n",
      "Installing collected packages: selenium\n",
      "  Attempting uninstall: selenium\n",
      "    Found existing installation: selenium 3.141.0\n",
      "    Uninstalling selenium-3.141.0:\n",
      "      Successfully uninstalled selenium-3.141.0\n",
      "Successfully installed selenium-4.24.0\n",
      "Note: you may need to restart the kernel to use updated packages.\n"
     ]
    }
   ],
   "source": [
    "pip install --upgrade selenium"
   ]
  },
  {
   "cell_type": "code",
   "execution_count": null,
   "id": "c6ecec28",
   "metadata": {},
   "outputs": [],
   "source": []
  }
 ],
 "metadata": {
  "kernelspec": {
   "display_name": "Python 3",
   "language": "python",
   "name": "python3"
  },
  "language_info": {
   "codemirror_mode": {
    "name": "ipython",
    "version": 3
   },
   "file_extension": ".py",
   "mimetype": "text/x-python",
   "name": "python",
   "nbconvert_exporter": "python",
   "pygments_lexer": "ipython3",
   "version": "3.10.9"
  }
 },
 "nbformat": 4,
 "nbformat_minor": 5
}
